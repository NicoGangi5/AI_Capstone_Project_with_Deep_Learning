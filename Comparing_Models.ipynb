{
  "nbformat": 4,
  "nbformat_minor": 0,
  "metadata": {
    "kernelspec": {
      "display_name": "Python 3",
      "language": "python",
      "name": "python3"
    },
    "language_info": {
      "codemirror_mode": {
        "name": "ipython",
        "version": 3
      },
      "file_extension": ".py",
      "mimetype": "text/x-python",
      "name": "python",
      "nbconvert_exporter": "python",
      "pygments_lexer": "ipython3",
      "version": "3.7.6"
    },
    "colab": {
      "name": "Comparing-Models.ipynb",
      "provenance": [],
      "include_colab_link": true
    }
  },
  "cells": [
    {
      "cell_type": "markdown",
      "metadata": {
        "id": "view-in-github",
        "colab_type": "text"
      },
      "source": [
        "<a href=\"https://colab.research.google.com/github/NicoGangi5/AI_Capstone_Project_with_Deep_Learning/blob/main/Comparing_Models.ipynb\" target=\"_parent\"><img src=\"https://colab.research.google.com/assets/colab-badge.svg\" alt=\"Open In Colab\"/></a>"
      ]
    },
    {
      "cell_type": "markdown",
      "metadata": {
        "button": false,
        "new_sheet": false,
        "run_control": {
          "read_only": false
        },
        "id": "9lgYuhjGyyz9"
      },
      "source": [
        "<a href=\"https://cognitiveclass.ai\"><img src = \"https://s3-api.us-geo.objectstorage.softlayer.net/cf-courses-data/CognitiveClass/Logos/organization_logo/organization_logo.png\" width = 400> </a>\n",
        "\n",
        "<h1 align=center><font size = 5>Peer Review Final Assignment</font></h1>"
      ]
    },
    {
      "cell_type": "markdown",
      "metadata": {
        "button": false,
        "new_sheet": false,
        "run_control": {
          "read_only": false
        },
        "id": "k4lCY3dbyy0A"
      },
      "source": [
        "## Introduction\n"
      ]
    },
    {
      "cell_type": "markdown",
      "metadata": {
        "button": false,
        "new_sheet": false,
        "run_control": {
          "read_only": false
        },
        "id": "gI509LXRyy0A"
      },
      "source": [
        "In this lab, you will build an image classifier using the VGG16 pre-trained model, and you will evaluate it and compare its performance to the model we built in the last module using the ResNet50 pre-trained model. Good luck!"
      ]
    },
    {
      "cell_type": "markdown",
      "metadata": {
        "button": false,
        "new_sheet": false,
        "run_control": {
          "read_only": false
        },
        "id": "4bThD0YNyy0B"
      },
      "source": [
        "## Table of Contents\n",
        "\n",
        "<div class=\"alert alert-block alert-info\" style=\"margin-top: 20px\">\n",
        "\n",
        "<font size = 3>    \n",
        "\n",
        "1. <a href=\"#item41\">Download Data \n",
        "2. <a href=\"#item42\">Part 1</a>\n",
        "3. <a href=\"#item43\">Part 2</a>  \n",
        "4. <a href=\"#item44\">Part 3</a>  \n",
        "\n",
        "</font>\n",
        "    \n",
        "</div>"
      ]
    },
    {
      "cell_type": "markdown",
      "metadata": {
        "button": false,
        "new_sheet": false,
        "run_control": {
          "read_only": false
        },
        "id": "vpIYZHZxyy0B"
      },
      "source": [
        "   "
      ]
    },
    {
      "cell_type": "markdown",
      "metadata": {
        "id": "S1oNtosmyy0B"
      },
      "source": [
        "<a id=\"item41\"></a>"
      ]
    },
    {
      "cell_type": "markdown",
      "metadata": {
        "id": "tMd2f_ozyy0C"
      },
      "source": [
        "## Download Data"
      ]
    },
    {
      "cell_type": "markdown",
      "metadata": {
        "id": "atiS_K7cyy0C"
      },
      "source": [
        "Use the <code>wget</code> command to download the data for this assignment from here: https://s3-api.us-geo.objectstorage.softlayer.net/cf-courses-data/CognitiveClass/DL0321EN/data/concrete_data_week4.zip"
      ]
    },
    {
      "cell_type": "markdown",
      "metadata": {
        "id": "zakVN1nmyy0C"
      },
      "source": [
        "Use the following cells to download the data."
      ]
    },
    {
      "cell_type": "code",
      "metadata": {
        "id": "vCkPRADbyy0D",
        "outputId": "838eb59b-f559-4bd6-fb47-32925ba1402f"
      },
      "source": [
        "!wget https://s3-api.us-geo.objectstorage.softlayer.net/cf-courses-data/CognitiveClass/DL0321EN/data/concrete_data_week4.zip"
      ],
      "execution_count": null,
      "outputs": [
        {
          "output_type": "stream",
          "text": [
            "--2020-06-29 17:22:03--  https://s3-api.us-geo.objectstorage.softlayer.net/cf-courses-data/CognitiveClass/DL0321EN/data/concrete_data_week4.zip\n",
            "Resolving s3-api.us-geo.objectstorage.softlayer.net (s3-api.us-geo.objectstorage.softlayer.net)... 67.228.254.196\n",
            "Connecting to s3-api.us-geo.objectstorage.softlayer.net (s3-api.us-geo.objectstorage.softlayer.net)|67.228.254.196|:443... connected.\n",
            "HTTP request sent, awaiting response... 200 OK\n",
            "Length: 261483817 (249M) [application/zip]\n",
            "Saving to: ‘concrete_data_week4.zip’\n",
            "\n",
            "concrete_data_week4 100%[===================>] 249.37M   740KB/s    in 3m 3s   \n",
            "\n",
            "2020-06-29 17:25:06 (1.37 MB/s) - ‘concrete_data_week4.zip’ saved [261483817/261483817]\n",
            "\n"
          ],
          "name": "stdout"
        }
      ]
    },
    {
      "cell_type": "code",
      "metadata": {
        "id": "hmHIZoo1yy0D"
      },
      "source": [
        "!unzip -q concrete_data_week4.zip"
      ],
      "execution_count": null,
      "outputs": []
    },
    {
      "cell_type": "markdown",
      "metadata": {
        "id": "RVPEKq31yy0E"
      },
      "source": [
        "After you unzip the data, you fill find the data has already been divided into a train, validation, and test sets."
      ]
    },
    {
      "cell_type": "markdown",
      "metadata": {
        "id": "bwGth8_Hyy0E"
      },
      "source": [
        "  "
      ]
    },
    {
      "cell_type": "markdown",
      "metadata": {
        "button": false,
        "new_sheet": false,
        "run_control": {
          "read_only": false
        },
        "id": "-djei8Juyy0E"
      },
      "source": [
        "<a id=\"item42\"></a>"
      ]
    },
    {
      "cell_type": "markdown",
      "metadata": {
        "id": "1FylSy_Kyy0E"
      },
      "source": [
        "## Part 1"
      ]
    },
    {
      "cell_type": "markdown",
      "metadata": {
        "id": "zasarAqbyy0F"
      },
      "source": [
        "In this part, you will design a classifier using the VGG16 pre-trained model. Just like the ResNet50 model, you can import the model <code>VGG16</code> from <code>keras.applications</code>."
      ]
    },
    {
      "cell_type": "markdown",
      "metadata": {
        "id": "tjgsBQnZyy0F"
      },
      "source": [
        "You will essentially build your classifier as follows:\n",
        "1. Import libraries, modules, and packages you will need. Make sure to import the *preprocess_input* function from <code>keras.applications.vgg16</code>.\n",
        "2. Use a batch size of 100 images for both training and validation.\n",
        "3. Construct an ImageDataGenerator for the training set and another one for the validation set. VGG16 was originally trained on 224 × 224 images, so make sure to address that when defining the ImageDataGenerator instances.\n",
        "4. Create a sequential model using Keras. Add VGG16 model to it and dense layer.\n",
        "5. Compile the mode using the adam optimizer and the categorical_crossentropy loss function.\n",
        "6. Fit the model on the augmented data using the ImageDataGenerators."
      ]
    },
    {
      "cell_type": "markdown",
      "metadata": {
        "id": "k3FopZrayy0F"
      },
      "source": [
        "Use the following cells to create your classifier."
      ]
    },
    {
      "cell_type": "code",
      "metadata": {
        "id": "s0j5_M2myy0G",
        "outputId": "29eed89e-3c3b-4055-e86b-dc71a11fe47c"
      },
      "source": [
        "from keras.preprocessing.image import ImageDataGenerator\n",
        "from keras.models import Sequential\n",
        "from keras.layers import Dense\n",
        "from keras.applications import VGG16\n",
        "from keras.applications.vgg16 import preprocess_input"
      ],
      "execution_count": null,
      "outputs": [
        {
          "output_type": "stream",
          "text": [
            "Using TensorFlow backend.\n"
          ],
          "name": "stderr"
        }
      ]
    },
    {
      "cell_type": "code",
      "metadata": {
        "id": "YIIwjBj_yy0G"
      },
      "source": [
        "num_classes = 2\n",
        "batch_size = 100\n",
        "image_size = (224, 224)"
      ],
      "execution_count": null,
      "outputs": []
    },
    {
      "cell_type": "code",
      "metadata": {
        "scrolled": true,
        "id": "w5u65eVzyy0G",
        "outputId": "67c7570d-e6ca-42b1-dd40-eb1eec6c2c19"
      },
      "source": [
        "generator = ImageDataGenerator(preprocessing_function=preprocess_input)\n",
        "\n",
        "training_generator = generator.flow_from_directory(\n",
        "    \"concrete_data_week4/train\",\n",
        "    target_size=image_size,\n",
        "    batch_size=batch_size,\n",
        "    class_mode=\"categorical\",\n",
        ")\n",
        "validation_generator = generator.flow_from_directory(\n",
        "    \"concrete_data_week4/valid\",\n",
        "    target_size=image_size,\n",
        "    batch_size=batch_size,\n",
        "    class_mode=\"categorical\",\n",
        ")"
      ],
      "execution_count": null,
      "outputs": [
        {
          "output_type": "stream",
          "text": [
            "Found 30001 images belonging to 2 classes.\n",
            "Found 9501 images belonging to 2 classes.\n"
          ],
          "name": "stdout"
        }
      ]
    },
    {
      "cell_type": "code",
      "metadata": {
        "id": "C5S3UwNQyy0H",
        "outputId": "154fef4a-3c41-4b2a-9db2-25f44b77b636"
      },
      "source": [
        "model_vgg16 = Sequential()\n",
        "\n",
        "model_vgg16.add(VGG16(include_top=False, pooling=\"avg\", weights=\"imagenet\",))\n",
        "model_vgg16.add(Dense(num_classes, activation=\"softmax\"))\n",
        "\n",
        "model_vgg16.layers[0].trainable = False\n",
        "\n",
        "model_vgg16.summary()"
      ],
      "execution_count": null,
      "outputs": [
        {
          "output_type": "stream",
          "text": [
            "Downloading data from https://github.com/fchollet/deep-learning-models/releases/download/v0.1/vgg16_weights_tf_dim_ordering_tf_kernels_notop.h5\n",
            "58892288/58889256 [==============================] - 40s 1us/step\n",
            "Model: \"sequential_1\"\n",
            "_________________________________________________________________\n",
            "Layer (type)                 Output Shape              Param #   \n",
            "=================================================================\n",
            "vgg16 (Model)                (None, 512)               14714688  \n",
            "_________________________________________________________________\n",
            "dense_1 (Dense)              (None, 2)                 1026      \n",
            "=================================================================\n",
            "Total params: 14,715,714\n",
            "Trainable params: 1,026\n",
            "Non-trainable params: 14,714,688\n",
            "_________________________________________________________________\n"
          ],
          "name": "stdout"
        }
      ]
    },
    {
      "cell_type": "code",
      "metadata": {
        "id": "z_fV_H60yy0H"
      },
      "source": [
        "model_vgg16.compile(\n",
        "    optimizer=\"adam\", loss=\"categorical_crossentropy\", metrics=[\"accuracy\"]\n",
        ")"
      ],
      "execution_count": null,
      "outputs": []
    },
    {
      "cell_type": "code",
      "metadata": {
        "id": "5s7mNN4Vyy0H",
        "outputId": "aeb9aba2-c4b9-459b-b685-de86a48afaf4"
      },
      "source": [
        "num_epochs = 2\n",
        "steps_per_epoch_training = len(training_generator)\n",
        "steps_per_epoch_validation = len(validation_generator)\n",
        "\n",
        "history_vgg16 = model_vgg16.fit_generator(\n",
        "    training_generator,\n",
        "    steps_per_epoch=steps_per_epoch_training,\n",
        "    epochs=num_epochs,\n",
        "    validation_data=validation_generator,\n",
        "    validation_steps=steps_per_epoch_validation,\n",
        "    verbose=1,\n",
        ")"
      ],
      "execution_count": null,
      "outputs": [
        {
          "output_type": "stream",
          "text": [
            "Epoch 1/2\n",
            "301/301 [==============================] - 23726s 79s/step - loss: 0.1538 - accuracy: 0.9467 - val_loss: 0.0095 - val_accuracy: 0.9922\n",
            "Epoch 2/2\n",
            "301/301 [==============================] - 12014s 40s/step - loss: 0.0279 - accuracy: 0.9934 - val_loss: 1.2517e-05 - val_accuracy: 0.9954\n"
          ],
          "name": "stdout"
        }
      ]
    },
    {
      "cell_type": "code",
      "metadata": {
        "id": "emB4dtBWyy0I"
      },
      "source": [
        "model_vgg16.save(\"classifier_vgg16_model.h5\")"
      ],
      "execution_count": null,
      "outputs": []
    },
    {
      "cell_type": "markdown",
      "metadata": {
        "id": "oGl3Em0Hyy0I"
      },
      "source": [
        "   "
      ]
    },
    {
      "cell_type": "markdown",
      "metadata": {
        "id": "k_NJQm3Fyy0I"
      },
      "source": [
        "<a id=\"item43\"></a>"
      ]
    },
    {
      "cell_type": "markdown",
      "metadata": {
        "id": "OGukPz21yy0J"
      },
      "source": [
        "## Part 2"
      ]
    },
    {
      "cell_type": "markdown",
      "metadata": {
        "id": "8tvta750yy0J"
      },
      "source": [
        "In this part, you will evaluate your deep learning models on a test data. For this part, you will need to do the following:\n",
        "\n",
        "1. Load your saved model that was built using the ResNet50 model. \n",
        "2. Construct an ImageDataGenerator for the test set. For this ImageDataGenerator instance, you only need to pass the directory of the test images, target size, and the **shuffle** parameter and set it to False.\n",
        "3. Use the **evaluate_generator** method to evaluate your models on the test data, by passing the above ImageDataGenerator as an argument. You can learn more about **evaluate_generator** [here](https://keras.io/models/sequential/).\n",
        "4. Print the performance of the classifier using the VGG16 pre-trained model.\n",
        "5. Print the performance of the classifier using the ResNet pre-trained model.\n"
      ]
    },
    {
      "cell_type": "markdown",
      "metadata": {
        "id": "z-E4edxByy0J"
      },
      "source": [
        "Use the following cells to evaluate your models."
      ]
    },
    {
      "cell_type": "code",
      "metadata": {
        "id": "XtiwDZ00yy0J",
        "outputId": "a9a74ffc-cb8e-41b0-8e1e-18f1fae3792a"
      },
      "source": [
        "from keras.models import load_model\n",
        "\n",
        "model_resnet50 = load_model(\"classifier_resnet_model.h5\")"
      ],
      "execution_count": null,
      "outputs": [
        {
          "output_type": "stream",
          "text": [
            "/Users/tymick/opt/anaconda3/lib/python3.7/site-packages/keras/engine/saving.py:384: UserWarning: Error in loading the saved optimizer state. As a result, your model is starting with a freshly initialized optimizer.\n",
            "  warnings.warn('Error in loading the saved optimizer '\n"
          ],
          "name": "stderr"
        }
      ]
    },
    {
      "cell_type": "markdown",
      "metadata": {
        "id": "CzWCJeZ7yy0K"
      },
      "source": [
        "_I take it from [this Stack Overflow answer](https://stackoverflow.com/a/49199132/7133888) that I don't need the saved optimizer state for testing. The reason for the error is because the model used a non-trainable submodule, and there's a bug in Keras that doesn't preserve that information in saving._\n",
        "\n",
        "_This error can be fixed by either setting `trainable=False` explicitly on all the inner layers of the ResNet50 model or by just passing `include_optimizer=False` into `model.save`. But I can't go back and do that now because I already closed that notebook and don't want to wait six hours to train the model again._"
      ]
    },
    {
      "cell_type": "code",
      "metadata": {
        "id": "ocoHrB9Cyy0K",
        "outputId": "19904a85-c8e8-410c-8043-29a35f23a682"
      },
      "source": [
        "testing_generator = generator.flow_from_directory(\n",
        "    \"concrete_data_week4/test\", target_size=image_size, shuffle=False,\n",
        ")"
      ],
      "execution_count": null,
      "outputs": [
        {
          "output_type": "stream",
          "text": [
            "Found 500 images belonging to 2 classes.\n"
          ],
          "name": "stdout"
        }
      ]
    },
    {
      "cell_type": "code",
      "metadata": {
        "id": "KaDesPwNyy0K",
        "outputId": "45beb269-76e8-4035-a612-085a9edc88ac"
      },
      "source": [
        "performance_vgg16 = model_vgg16.evaluate_generator(testing_generator)\n",
        "print(\"Performance of the VGG16-trained model\")\n",
        "print(\"Loss: {}\".format(round(performance_vgg16[0], 5)))\n",
        "print(\"Accuracy: {}\".format(round(performance_vgg16[1], 5)))"
      ],
      "execution_count": null,
      "outputs": [
        {
          "output_type": "stream",
          "text": [
            "Performance of the VGG16-trained model\n",
            "Loss: 0.00741\n",
            "Accuracy: 0.996\n"
          ],
          "name": "stdout"
        }
      ]
    },
    {
      "cell_type": "code",
      "metadata": {
        "id": "Wk3YeSDeyy0L",
        "outputId": "fec46402-0665-475f-d7d0-6b1a705c0c5f"
      },
      "source": [
        "performance_resnet50 = model_resnet50.evaluate_generator(testing_generator)\n",
        "print(\"Performance of the ResNet50-trained model\")\n",
        "print(\"Loss: {}\".format(round(performance_resnet50[0], 5)))\n",
        "print(\"Accuracy: {}\".format(round(performance_resnet50[1], 5)))"
      ],
      "execution_count": null,
      "outputs": [
        {
          "output_type": "stream",
          "text": [
            "Performance of the ResNet50-trained model\n",
            "Loss: 0.11661\n",
            "Accuracy: 0.952\n"
          ],
          "name": "stdout"
        }
      ]
    },
    {
      "cell_type": "markdown",
      "metadata": {
        "id": "JHGyKq43yy0L"
      },
      "source": [
        "   "
      ]
    },
    {
      "cell_type": "markdown",
      "metadata": {
        "id": "6Tv8ghTKyy0M"
      },
      "source": [
        "<a id=\"item44\"></a>"
      ]
    },
    {
      "cell_type": "markdown",
      "metadata": {
        "id": "vBCe142Nyy0M"
      },
      "source": [
        "## Part 3"
      ]
    },
    {
      "cell_type": "markdown",
      "metadata": {
        "id": "azYlz6Qryy0M"
      },
      "source": [
        "In this model, you will predict whether the images in the test data are images of cracked concrete or not. You will do the following:\n",
        "\n",
        "1. Use the **predict_generator** method to predict the class of the images in the test data, by passing the test data ImageDataGenerator instance defined in the previous part as an argument. You can learn more about the **predict_generator** method [here](https://keras.io/models/sequential/).\n",
        "2. Report the class predictions of the first five images in the test set. You should print something list this:\n",
        "\n",
        "<center>\n",
        "    <ul style=\"list-style-type:none\">\n",
        "        <li>Positive</li>  \n",
        "        <li>Negative</li> \n",
        "        <li>Positive</li>\n",
        "        <li>Positive</li>\n",
        "        <li>Negative</li>\n",
        "    </ul>\n",
        "</center>"
      ]
    },
    {
      "cell_type": "markdown",
      "metadata": {
        "id": "jZRoL7Eeyy0M"
      },
      "source": [
        "Use the following cells to make your predictions."
      ]
    },
    {
      "cell_type": "code",
      "metadata": {
        "id": "dur3btg7yy0M",
        "outputId": "67f788f4-b099-48ea-ae4b-939ed138f955"
      },
      "source": [
        "predictions_vgg16 = model_vgg16.predict_generator(testing_generator, steps=1)\n",
        "\n",
        "\n",
        "def print_prediction(prediction):\n",
        "    if prediction[0] > prediction[1]:\n",
        "        print(\"Negative ({}% certainty)\".format(round(prediction[0] * 100, 1)))\n",
        "    elif prediction[1] > prediction[0]:\n",
        "        print(\"Positive ({}% certainty)\".format(round(prediction[1] * 100, 1)))\n",
        "    else:\n",
        "        print(\"Unsure (prediction split 50–50)\")\n",
        "\n",
        "\n",
        "print(\"First five predictions for the VGG16-trained model:\")\n",
        "for i in range(5):\n",
        "    print_prediction(predictions_vgg16[i])"
      ],
      "execution_count": null,
      "outputs": [
        {
          "output_type": "stream",
          "text": [
            "First five predictions for the VGG16-trained model:\n",
            "Negative (99.7% certainty)\n",
            "Negative (92.1% certainty)\n",
            "Negative (97.0% certainty)\n",
            "Negative (98.7% certainty)\n",
            "Negative (98.1% certainty)\n"
          ],
          "name": "stdout"
        }
      ]
    },
    {
      "cell_type": "code",
      "metadata": {
        "id": "1LHBxgrKyy0N",
        "outputId": "8bab7c23-6c7b-4812-aec1-52910b318b5b"
      },
      "source": [
        "predictions_resnet50 = model_resnet50.predict_generator(testing_generator, steps=1)\n",
        "print(\"First five predictions for the ResNet50-trained model:\")\n",
        "for i in range(5):\n",
        "    print_prediction(predictions_resnet50[i])"
      ],
      "execution_count": null,
      "outputs": [
        {
          "output_type": "stream",
          "text": [
            "First five predictions for the ResNet50-trained model:\n",
            "Negative (100.0% certainty)\n",
            "Negative (100.0% certainty)\n",
            "Negative (100.0% certainty)\n",
            "Negative (99.9% certainty)\n",
            "Negative (99.4% certainty)\n"
          ],
          "name": "stdout"
        }
      ]
    },
    {
      "cell_type": "markdown",
      "metadata": {
        "id": "cH2OeN2Vyy0N"
      },
      "source": [
        "  "
      ]
    },
    {
      "cell_type": "markdown",
      "metadata": {
        "button": false,
        "new_sheet": false,
        "run_control": {
          "read_only": false
        },
        "id": "cqMPk3Vcyy0N"
      },
      "source": [
        "### Thank you for completing this lab!\n",
        "\n",
        "This notebook was created by Alex Aklson."
      ]
    },
    {
      "cell_type": "markdown",
      "metadata": {
        "button": false,
        "new_sheet": false,
        "run_control": {
          "read_only": false
        },
        "id": "FNJeEQSuyy0N"
      },
      "source": [
        "This notebook is part of a course on **Coursera** called *AI Capstone Project with Deep Learning*. If you accessed this notebook outside the course, you can take this course online by clicking [here](https://cocl.us/DL0321EN_Coursera_Week4_LAB1)."
      ]
    },
    {
      "cell_type": "markdown",
      "metadata": {
        "button": false,
        "new_sheet": false,
        "run_control": {
          "read_only": false
        },
        "id": "W53_lT-Lyy0N"
      },
      "source": [
        "<hr>\n",
        "\n",
        "Copyright &copy; 2020 [IBM Developer Skills Network](https://cognitiveclass.ai/?utm_source=bducopyrightlink&utm_medium=dswb&utm_campaign=bdu). This notebook and its source code are released under the terms of the [MIT License](https://bigdatauniversity.com/mit-license/)."
      ]
    }
  ]
}